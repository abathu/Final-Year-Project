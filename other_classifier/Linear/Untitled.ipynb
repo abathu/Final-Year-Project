{
 "cells": [
  {
   "cell_type": "code",
   "execution_count": 1,
   "id": "0acf8acc",
   "metadata": {},
   "outputs": [
    {
     "data": {
      "text/html": [
       "<div>\n",
       "<style scoped>\n",
       "    .dataframe tbody tr th:only-of-type {\n",
       "        vertical-align: middle;\n",
       "    }\n",
       "\n",
       "    .dataframe tbody tr th {\n",
       "        vertical-align: top;\n",
       "    }\n",
       "\n",
       "    .dataframe thead th {\n",
       "        text-align: right;\n",
       "    }\n",
       "</style>\n",
       "<table border=\"1\" class=\"dataframe\">\n",
       "  <thead>\n",
       "    <tr style=\"text-align: right;\">\n",
       "      <th></th>\n",
       "      <th>id</th>\n",
       "      <th>text</th>\n",
       "      <th>label</th>\n",
       "    </tr>\n",
       "  </thead>\n",
       "  <tbody>\n",
       "    <tr>\n",
       "      <th>0</th>\n",
       "      <td>facebook_corpus_msr_1723796</td>\n",
       "      <td>Well said sonu..you have courage to stand agai...</td>\n",
       "      <td>OAG</td>\n",
       "    </tr>\n",
       "    <tr>\n",
       "      <th>1</th>\n",
       "      <td>facebook_corpus_msr_466073</td>\n",
       "      <td>Most of Private Banks ATM's Like HDFC, ICICI e...</td>\n",
       "      <td>NAG</td>\n",
       "    </tr>\n",
       "    <tr>\n",
       "      <th>2</th>\n",
       "      <td>facebook_corpus_msr_1493901</td>\n",
       "      <td>Now question is, Pakistan will adhere to this?</td>\n",
       "      <td>OAG</td>\n",
       "    </tr>\n",
       "    <tr>\n",
       "      <th>3</th>\n",
       "      <td>facebook_corpus_msr_405512</td>\n",
       "      <td>Pakistan is comprised of fake muslims who does...</td>\n",
       "      <td>OAG</td>\n",
       "    </tr>\n",
       "    <tr>\n",
       "      <th>4</th>\n",
       "      <td>facebook_corpus_msr_1521685</td>\n",
       "      <td>??we r against cow slaughter,so of course it w...</td>\n",
       "      <td>NAG</td>\n",
       "    </tr>\n",
       "  </tbody>\n",
       "</table>\n",
       "</div>"
      ],
      "text/plain": [
       "                            id  \\\n",
       "0  facebook_corpus_msr_1723796   \n",
       "1   facebook_corpus_msr_466073   \n",
       "2  facebook_corpus_msr_1493901   \n",
       "3   facebook_corpus_msr_405512   \n",
       "4  facebook_corpus_msr_1521685   \n",
       "\n",
       "                                                text label  \n",
       "0  Well said sonu..you have courage to stand agai...   OAG  \n",
       "1  Most of Private Banks ATM's Like HDFC, ICICI e...   NAG  \n",
       "2     Now question is, Pakistan will adhere to this?   OAG  \n",
       "3  Pakistan is comprised of fake muslims who does...   OAG  \n",
       "4  ??we r against cow slaughter,so of course it w...   NAG  "
      ]
     },
     "metadata": {},
     "output_type": "display_data"
    },
    {
     "name": "stdout",
     "output_type": "stream",
     "text": [
      "<class 'pandas.core.frame.DataFrame'>\n",
      "RangeIndex: 11999 entries, 0 to 11998\n",
      "Data columns (total 3 columns):\n",
      " #   Column  Non-Null Count  Dtype \n",
      "---  ------  --------------  ----- \n",
      " 0   id      11999 non-null  object\n",
      " 1   text    11999 non-null  object\n",
      " 2   label   11999 non-null  object\n",
      "dtypes: object(3)\n",
      "memory usage: 281.4+ KB\n",
      "None\n"
     ]
    }
   ],
   "source": [
    "import pandas as pd\n",
    "\n",
    "# Load the dataset\n",
    "data = pd.read_csv(\"agr_en_train.csv\",header = None )\n",
    "data.columns = ['id', 'text', 'label']\n",
    "\n",
    "# Look at the first few rows of the dataframe\n",
    "display (data.head())\n",
    "\n",
    "print (data.info())\n",
    "\n",
    "\n"
   ]
  },
  {
   "cell_type": "code",
   "execution_count": 2,
   "id": "6d488b09",
   "metadata": {},
   "outputs": [
    {
     "name": "stdout",
     "output_type": "stream",
     "text": [
      "NAG    5051\n",
      "CAG    4240\n",
      "OAG    2708\n",
      "Name: label, dtype: int64\n"
     ]
    }
   ],
   "source": [
    "# check my dataset balanced or not \\\n",
    "print(data['label'].value_counts())\n",
    "# not very inbalanced ??"
   ]
  },
  {
   "cell_type": "code",
   "execution_count": 3,
   "id": "b024b414",
   "metadata": {},
   "outputs": [],
   "source": [
    "from sklearn.feature_extraction.text import TfidfVectorizer\n",
    "\n",
    "# Initialize the TfidfVectorizer\n",
    "tfidf_vectorizer = TfidfVectorizer(max_df=0.7, min_df=5, stop_words='english')\n",
    "\n",
    "# Fit and transform the training data \n",
    "tfidf_train = tfidf_vectorizer.fit_transform(data['text'])\n"
   ]
  },
  {
   "cell_type": "code",
   "execution_count": 4,
   "id": "c248300d",
   "metadata": {},
   "outputs": [
    {
     "data": {
      "text/plain": [
       "<9599x4630 sparse matrix of type '<class 'numpy.float64'>'\n",
       "\twith 92302 stored elements in Compressed Sparse Row format>"
      ]
     },
     "metadata": {},
     "output_type": "display_data"
    },
    {
     "data": {
      "text/plain": [
       "9182     CAG\n",
       "10487    NAG\n",
       "6428     NAG\n",
       "288      CAG\n",
       "2626     CAG\n",
       "        ... \n",
       "11964    NAG\n",
       "5191     NAG\n",
       "5390     CAG\n",
       "860      CAG\n",
       "7270     NAG\n",
       "Name: label, Length: 9599, dtype: object"
      ]
     },
     "metadata": {},
     "output_type": "display_data"
    },
    {
     "data": {
      "text/plain": [
       "<11999x4630 sparse matrix of type '<class 'numpy.float64'>'\n",
       "\twith 114422 stored elements in Compressed Sparse Row format>"
      ]
     },
     "metadata": {},
     "output_type": "display_data"
    }
   ],
   "source": [
    "from sklearn.model_selection import train_test_split\n",
    "\n",
    "X_train, X_test, y_train, y_test = train_test_split(tfidf_train, data['label'], test_size=0.2, random_state=42)\n",
    "\n",
    "\n",
    "display (X_train)\n",
    "display (y_train)\n",
    "display (tfidf_train)"
   ]
  },
  {
   "cell_type": "code",
   "execution_count": 6,
   "id": "db0d0101",
   "metadata": {},
   "outputs": [
    {
     "name": "stdout",
     "output_type": "stream",
     "text": [
      "most frequent  0.4275\n",
      "stratified 0.34958333333333336\n",
      "uniform  0.32666666666666666\n"
     ]
    }
   ],
   "source": [
    "# an dummy classification \n",
    "from sklearn.dummy import DummyClassifier \n",
    "\n",
    "\n",
    "dummyClassifier = DummyClassifier(strategy=\"most_frequent\")\n",
    "dummyClassifier.fit(X_train, y_train)\n",
    "print (\"most frequent \",dummyClassifier.score(X_test,y_test))\n",
    "\n",
    "\n",
    "dummyClassifier = DummyClassifier(strategy=\"stratified\")\n",
    "dummyClassifier.fit(X_train, y_train)\n",
    "print (\"stratified\",dummyClassifier.score(X_test,y_test))\n",
    "\n",
    "\n",
    "dummyClassifier = DummyClassifier(strategy=\"uniform\")\n",
    "dummyClassifier.fit(X_train, y_train)\n",
    "print (\"uniform \",dummyClassifier.score(X_test,y_test))"
   ]
  },
  {
   "cell_type": "code",
   "execution_count": 11,
   "id": "e2590113",
   "metadata": {},
   "outputs": [
    {
     "name": "stdout",
     "output_type": "stream",
     "text": [
      "Accuracy:  0.31916666666666665\n",
      "              precision    recall  f1-score   support\n",
      "\n",
      "         CAG       0.34      0.31      0.33       867\n",
      "         NAG       0.42      0.32      0.36      1026\n",
      "         OAG       0.21      0.34      0.26       507\n",
      "\n",
      "    accuracy                           0.32      2400\n",
      "   macro avg       0.32      0.32      0.31      2400\n",
      "weighted avg       0.35      0.32      0.33      2400\n",
      "\n"
     ]
    }
   ],
   "source": [
    "from sklearn.metrics import accuracy_score, classification_report\n",
    "y_pred = dummyClassifier.predict(X_test)\n",
    "print(\"Accuracy: \", accuracy_score(y_test, y_pred))\n",
    "print(classification_report(y_test, y_pred))"
   ]
  },
  {
   "cell_type": "code",
   "execution_count": 9,
   "id": "d4c29b10",
   "metadata": {},
   "outputs": [
    {
     "data": {
      "text/plain": [
       "LogisticRegression(multi_class='ovr')"
      ]
     },
     "execution_count": 9,
     "metadata": {},
     "output_type": "execute_result"
    }
   ],
   "source": [
    "from sklearn.linear_model import LogisticRegression\n",
    "\n",
    "# Initialize the Logistic Regression classifier\n",
    "clf = LogisticRegression(multi_class='ovr')  # 'ovr' stands for One-vs-Rest\n",
    "\n",
    "# Fit the classifier\n",
    "clf.fit(X_train, y_train)\n"
   ]
  },
  {
   "cell_type": "code",
   "execution_count": 10,
   "id": "eb3116e7",
   "metadata": {},
   "outputs": [
    {
     "name": "stdout",
     "output_type": "stream",
     "text": [
      "Accuracy:  0.5725\n",
      "              precision    recall  f1-score   support\n",
      "\n",
      "         CAG       0.51      0.51      0.51       867\n",
      "         NAG       0.62      0.74      0.67      1026\n",
      "         OAG       0.55      0.34      0.42       507\n",
      "\n",
      "    accuracy                           0.57      2400\n",
      "   macro avg       0.56      0.53      0.54      2400\n",
      "weighted avg       0.57      0.57      0.56      2400\n",
      "\n"
     ]
    }
   ],
   "source": [
    "from sklearn.metrics import accuracy_score, classification_report\n",
    "\n",
    "# Predict on the test set\n",
    "y_pred = clf.predict(X_test)\n",
    "\n",
    "# Evaluate the model\n",
    "print(\"Accuracy: \", accuracy_score(y_test, y_pred))\n",
    "print(classification_report(y_test, y_pred))\n"
   ]
  },
  {
   "cell_type": "code",
   "execution_count": 7,
   "id": "1b268f1c",
   "metadata": {},
   "outputs": [
    {
     "name": "stdout",
     "output_type": "stream",
     "text": [
      "Prediction:  ['OAG']\n"
     ]
    }
   ],
   "source": [
    "def predict_new_text(text):\n",
    "    tfidf_text = tfidf_vectorizer.transform([text])\n",
    "    return clf.predict(tfidf_text)\n",
    "\n",
    "# Example usage\n",
    "new_text = \"Your example text here.\"\n",
    "print(\"Prediction: \", predict_new_text(new_text))\n"
   ]
  },
  {
   "cell_type": "code",
   "execution_count": 8,
   "id": "f365b9c2",
   "metadata": {},
   "outputs": [],
   "source": [
    "# Function to remove non-ASCII characters\n",
    "def remove_non_ascii(text):\n",
    "    return ''.join(i for i in text if ord(i) < 128)\n",
    "\n",
    "\n"
   ]
  },
  {
   "cell_type": "code",
   "execution_count": 9,
   "id": "fc5c63d5",
   "metadata": {},
   "outputs": [
    {
     "name": "stdout",
     "output_type": "stream",
     "text": [
      "\n",
      "dataset \n"
     ]
    },
    {
     "name": "stderr",
     "output_type": "stream",
     "text": [
      "/var/folders/wb/k4gvn4054lvctzf9spdy5c5c0000gn/T/ipykernel_94056/2239758755.py:18: SettingWithCopyWarning: \n",
      "A value is trying to be set on a copy of a slice from a DataFrame.\n",
      "Try using .loc[row_indexer,col_indexer] = value instead\n",
      "\n",
      "See the caveats in the documentation: https://pandas.pydata.org/pandas-docs/stable/user_guide/indexing.html#returning-a-view-versus-a-copy\n",
      "  filtered_df['text'] = filtered_df['text'].apply(remove_non_ascii)\n"
     ]
    },
    {
     "data": {
      "text/html": [
       "<div>\n",
       "<style scoped>\n",
       "    .dataframe tbody tr th:only-of-type {\n",
       "        vertical-align: middle;\n",
       "    }\n",
       "\n",
       "    .dataframe tbody tr th {\n",
       "        vertical-align: top;\n",
       "    }\n",
       "\n",
       "    .dataframe thead th {\n",
       "        text-align: right;\n",
       "    }\n",
       "</style>\n",
       "<table border=\"1\" class=\"dataframe\">\n",
       "  <thead>\n",
       "    <tr style=\"text-align: right;\">\n",
       "      <th></th>\n",
       "      <th>created_at</th>\n",
       "      <th>text</th>\n",
       "      <th>lang</th>\n",
       "    </tr>\n",
       "  </thead>\n",
       "  <tbody>\n",
       "    <tr>\n",
       "      <th>0</th>\n",
       "      <td>2022-11-17 00:00:52+00:00</td>\n",
       "      <td>Check out Felipe Hildebrand's video! #TikTok h...</td>\n",
       "      <td>en</td>\n",
       "    </tr>\n",
       "    <tr>\n",
       "      <th>2</th>\n",
       "      <td>2022-11-17 00:00:52+00:00</td>\n",
       "      <td>@ElectionWiz @tboneMASS I Wish I discovered th...</td>\n",
       "      <td>en</td>\n",
       "    </tr>\n",
       "    <tr>\n",
       "      <th>3</th>\n",
       "      <td>2022-11-17 00:00:52+00:00</td>\n",
       "      <td>@durjoy Why is nobody talking about this? Unis...</td>\n",
       "      <td>en</td>\n",
       "    </tr>\n",
       "    <tr>\n",
       "      <th>4</th>\n",
       "      <td>2022-11-17 00:00:52+00:00</td>\n",
       "      <td>@ggreenwald @fye336 I Wish I discovered this e...</td>\n",
       "      <td>en</td>\n",
       "    </tr>\n",
       "    <tr>\n",
       "      <th>6</th>\n",
       "      <td>2022-11-17 00:00:52+00:00</td>\n",
       "      <td>@bariweiss @AmandaLuvsRoses Why is nobody talk...</td>\n",
       "      <td>en</td>\n",
       "    </tr>\n",
       "    <tr>\n",
       "      <th>...</th>\n",
       "      <td>...</td>\n",
       "      <td>...</td>\n",
       "      <td>...</td>\n",
       "    </tr>\n",
       "    <tr>\n",
       "      <th>2747</th>\n",
       "      <td>2022-11-17 00:01:52+00:00</td>\n",
       "      <td>RT @shiluvankuna: Remove one thing  https://t....</td>\n",
       "      <td>en</td>\n",
       "    </tr>\n",
       "    <tr>\n",
       "      <th>2748</th>\n",
       "      <td>2022-11-17 00:01:52+00:00</td>\n",
       "      <td>The course of true love never did run sm\\n\\n h...</td>\n",
       "      <td>en</td>\n",
       "    </tr>\n",
       "    <tr>\n",
       "      <th>2750</th>\n",
       "      <td>2022-11-17 00:01:52+00:00</td>\n",
       "      <td>Sidney Ellen Sylvia Brown # Doris # Milo Bruno...</td>\n",
       "      <td>en</td>\n",
       "    </tr>\n",
       "    <tr>\n",
       "      <th>2751</th>\n",
       "      <td>2022-11-17 00:01:52+00:00</td>\n",
       "      <td>RT @davemacladd: I dont think its right to cal...</td>\n",
       "      <td>en</td>\n",
       "    </tr>\n",
       "    <tr>\n",
       "      <th>2755</th>\n",
       "      <td>2022-11-17 00:01:52+00:00</td>\n",
       "      <td>Clear any loans in order to seek a favour</td>\n",
       "      <td>en</td>\n",
       "    </tr>\n",
       "  </tbody>\n",
       "</table>\n",
       "<p>954 rows × 3 columns</p>\n",
       "</div>"
      ],
      "text/plain": [
       "                    created_at  \\\n",
       "0    2022-11-17 00:00:52+00:00   \n",
       "2    2022-11-17 00:00:52+00:00   \n",
       "3    2022-11-17 00:00:52+00:00   \n",
       "4    2022-11-17 00:00:52+00:00   \n",
       "6    2022-11-17 00:00:52+00:00   \n",
       "...                        ...   \n",
       "2747 2022-11-17 00:01:52+00:00   \n",
       "2748 2022-11-17 00:01:52+00:00   \n",
       "2750 2022-11-17 00:01:52+00:00   \n",
       "2751 2022-11-17 00:01:52+00:00   \n",
       "2755 2022-11-17 00:01:52+00:00   \n",
       "\n",
       "                                                   text lang  \n",
       "0     Check out Felipe Hildebrand's video! #TikTok h...   en  \n",
       "2     @ElectionWiz @tboneMASS I Wish I discovered th...   en  \n",
       "3     @durjoy Why is nobody talking about this? Unis...   en  \n",
       "4     @ggreenwald @fye336 I Wish I discovered this e...   en  \n",
       "6     @bariweiss @AmandaLuvsRoses Why is nobody talk...   en  \n",
       "...                                                 ...  ...  \n",
       "2747  RT @shiluvankuna: Remove one thing  https://t....   en  \n",
       "2748  The course of true love never did run sm\\n\\n h...   en  \n",
       "2750  Sidney Ellen Sylvia Brown # Doris # Milo Bruno...   en  \n",
       "2751  RT @davemacladd: I dont think its right to cal...   en  \n",
       "2755          Clear any loans in order to seek a favour   en  \n",
       "\n",
       "[954 rows x 3 columns]"
      ]
     },
     "metadata": {},
     "output_type": "display_data"
    }
   ],
   "source": [
    "# read data \n",
    "def readData (name):\n",
    "    df = pd.read_json(name, lines = True)\n",
    "\n",
    "\n",
    "    # timestamp_ms is same with created time , droped as it have littel meaning\n",
    "    \n",
    "    # rememeber to undrop created_at\n",
    "\n",
    "    newDf = df.drop(columns =['id','id_str','in_reply_to_status_id','in_reply_to_status_id_str','in_reply_to_user_id','in_reply_to_user_id_str'\n",
    "                              ,'in_reply_to_screen_name','source','user','geo','coordinates','place','contributors','quote_count','reply_count'\n",
    "                              ,'is_quote_status','retweet_count','favorite_count','favorited','retweeted','possibly_sensitive','withheld_in_countries'\n",
    "                              ,'extended_entities','quoted_status_permalink','quoted_status','quoted_status_id_str','quoted_status_id','retweeted_status',\n",
    "                             'extended_tweet','display_text_range','timestamp_ms','filter_level','entities','truncated'])\n",
    "    # only need english data at this stage \n",
    "    filtered_df = newDf[newDf['lang'] == \"en\"]\n",
    "    # Apply the function to the 'text' column\n",
    "    filtered_df['text'] = filtered_df['text'].apply(remove_non_ascii)\n",
    "\n",
    "    print ('\\ndataset ')\n",
    "    display(filtered_df)\n",
    "    return filtered_df\n",
    "\n",
    "\n",
    "classfierData= readData ('20221117000100.json')"
   ]
  },
  {
   "cell_type": "code",
   "execution_count": 10,
   "id": "61e36c0d",
   "metadata": {},
   "outputs": [],
   "source": [
    "# Example usage\n",
    "classfierData['processed'] = classfierData['text'].apply(predict_new_text)\n",
    "agg_lan  = classfierData[classfierData['processed'] == 'OAG']"
   ]
  },
  {
   "cell_type": "code",
   "execution_count": 13,
   "id": "81369600",
   "metadata": {},
   "outputs": [
    {
     "data": {
      "text/html": [
       "<div>\n",
       "<style scoped>\n",
       "    .dataframe tbody tr th:only-of-type {\n",
       "        vertical-align: middle;\n",
       "    }\n",
       "\n",
       "    .dataframe tbody tr th {\n",
       "        vertical-align: top;\n",
       "    }\n",
       "\n",
       "    .dataframe thead th {\n",
       "        text-align: right;\n",
       "    }\n",
       "</style>\n",
       "<table border=\"1\" class=\"dataframe\">\n",
       "  <thead>\n",
       "    <tr style=\"text-align: right;\">\n",
       "      <th></th>\n",
       "      <th>created_at</th>\n",
       "      <th>text</th>\n",
       "      <th>lang</th>\n",
       "      <th>processed</th>\n",
       "    </tr>\n",
       "  </thead>\n",
       "  <tbody>\n",
       "    <tr>\n",
       "      <th>106</th>\n",
       "      <td>2022-11-17 00:00:54+00:00</td>\n",
       "      <td>RT @DaveyostsHat: @darreldrowland Gary isnt ou...</td>\n",
       "      <td>en</td>\n",
       "      <td>[OAG]</td>\n",
       "    </tr>\n",
       "    <tr>\n",
       "      <th>133</th>\n",
       "      <td>2022-11-17 00:00:55+00:00</td>\n",
       "      <td>RT @BDTRELILBROTHER: I be so happy Im not in c...</td>\n",
       "      <td>en</td>\n",
       "      <td>[OAG]</td>\n",
       "    </tr>\n",
       "    <tr>\n",
       "      <th>157</th>\n",
       "      <td>2022-11-17 00:00:55+00:00</td>\n",
       "      <td>It doesn't matter what kind of people we want ...</td>\n",
       "      <td>en</td>\n",
       "      <td>[OAG]</td>\n",
       "    </tr>\n",
       "    <tr>\n",
       "      <th>586</th>\n",
       "      <td>2022-11-17 00:01:04+00:00</td>\n",
       "      <td>Companion? Friend lovers, transformations cann...</td>\n",
       "      <td>en</td>\n",
       "      <td>[OAG]</td>\n",
       "    </tr>\n",
       "    <tr>\n",
       "      <th>812</th>\n",
       "      <td>2022-11-17 00:01:09+00:00</td>\n",
       "      <td>why did i forget about andor i might not have ...</td>\n",
       "      <td>en</td>\n",
       "      <td>[OAG]</td>\n",
       "    </tr>\n",
       "    <tr>\n",
       "      <th>821</th>\n",
       "      <td>2022-11-17 00:01:09+00:00</td>\n",
       "      <td>Do you know if pigs have periods?' Are you kid...</td>\n",
       "      <td>en</td>\n",
       "      <td>[OAG]</td>\n",
       "    </tr>\n",
       "    <tr>\n",
       "      <th>1337</th>\n",
       "      <td>2022-11-17 00:01:20+00:00</td>\n",
       "      <td>This really does capture the essence of k-on p...</td>\n",
       "      <td>en</td>\n",
       "      <td>[OAG]</td>\n",
       "    </tr>\n",
       "    <tr>\n",
       "      <th>1427</th>\n",
       "      <td>2022-11-17 00:01:22+00:00</td>\n",
       "      <td>@Victorshi2020 Lmfao what? You sound like a idiot</td>\n",
       "      <td>en</td>\n",
       "      <td>[OAG]</td>\n",
       "    </tr>\n",
       "    <tr>\n",
       "      <th>1486</th>\n",
       "      <td>2022-11-17 00:01:24+00:00</td>\n",
       "      <td>RT @pradeeponelife: Also few of the posts are ...</td>\n",
       "      <td>en</td>\n",
       "      <td>[OAG]</td>\n",
       "    </tr>\n",
       "    <tr>\n",
       "      <th>1703</th>\n",
       "      <td>2022-11-17 00:01:29+00:00</td>\n",
       "      <td>RT @TeoHanss: @ercep10 @sportbible Shut up htt...</td>\n",
       "      <td>en</td>\n",
       "      <td>[OAG]</td>\n",
       "    </tr>\n",
       "    <tr>\n",
       "      <th>1767</th>\n",
       "      <td>2022-11-17 00:01:30+00:00</td>\n",
       "      <td>@ewarren Imbecile, you are. Fraud.</td>\n",
       "      <td>en</td>\n",
       "      <td>[OAG]</td>\n",
       "    </tr>\n",
       "    <tr>\n",
       "      <th>1813</th>\n",
       "      <td>2022-11-17 00:01:31+00:00</td>\n",
       "      <td>RT @iluminatibot: What sort of fucking moron t...</td>\n",
       "      <td>en</td>\n",
       "      <td>[OAG]</td>\n",
       "    </tr>\n",
       "    <tr>\n",
       "      <th>1879</th>\n",
       "      <td>2022-11-17 00:01:32+00:00</td>\n",
       "      <td>the fact that she's not is a homophobic crime</td>\n",
       "      <td>en</td>\n",
       "      <td>[OAG]</td>\n",
       "    </tr>\n",
       "    <tr>\n",
       "      <th>1921</th>\n",
       "      <td>2022-11-17 00:01:33+00:00</td>\n",
       "      <td>@robotpinemarten Theres no shame in that</td>\n",
       "      <td>en</td>\n",
       "      <td>[OAG]</td>\n",
       "    </tr>\n",
       "    <tr>\n",
       "      <th>2154</th>\n",
       "      <td>2022-11-17 00:01:38+00:00</td>\n",
       "      <td>I don't know who the person is who left this c...</td>\n",
       "      <td>en</td>\n",
       "      <td>[OAG]</td>\n",
       "    </tr>\n",
       "    <tr>\n",
       "      <th>2400</th>\n",
       "      <td>2022-11-17 00:01:44+00:00</td>\n",
       "      <td>@CourtneeHendrix Im not pounding booty hole so...</td>\n",
       "      <td>en</td>\n",
       "      <td>[OAG]</td>\n",
       "    </tr>\n",
       "    <tr>\n",
       "      <th>2424</th>\n",
       "      <td>2022-11-17 00:01:44+00:00</td>\n",
       "      <td>@disclosetv The democrats hate real Americans ...</td>\n",
       "      <td>en</td>\n",
       "      <td>[OAG]</td>\n",
       "    </tr>\n",
       "    <tr>\n",
       "      <th>2474</th>\n",
       "      <td>2022-11-17 00:01:45+00:00</td>\n",
       "      <td>RT @catturd2: America last. These neocons are ...</td>\n",
       "      <td>en</td>\n",
       "      <td>[OAG]</td>\n",
       "    </tr>\n",
       "    <tr>\n",
       "      <th>2617</th>\n",
       "      <td>2022-11-17 00:01:49+00:00</td>\n",
       "      <td>Some people like the way it feels \\nSome peopl...</td>\n",
       "      <td>en</td>\n",
       "      <td>[OAG]</td>\n",
       "    </tr>\n",
       "  </tbody>\n",
       "</table>\n",
       "</div>"
      ],
      "text/plain": [
       "                    created_at  \\\n",
       "106  2022-11-17 00:00:54+00:00   \n",
       "133  2022-11-17 00:00:55+00:00   \n",
       "157  2022-11-17 00:00:55+00:00   \n",
       "586  2022-11-17 00:01:04+00:00   \n",
       "812  2022-11-17 00:01:09+00:00   \n",
       "821  2022-11-17 00:01:09+00:00   \n",
       "1337 2022-11-17 00:01:20+00:00   \n",
       "1427 2022-11-17 00:01:22+00:00   \n",
       "1486 2022-11-17 00:01:24+00:00   \n",
       "1703 2022-11-17 00:01:29+00:00   \n",
       "1767 2022-11-17 00:01:30+00:00   \n",
       "1813 2022-11-17 00:01:31+00:00   \n",
       "1879 2022-11-17 00:01:32+00:00   \n",
       "1921 2022-11-17 00:01:33+00:00   \n",
       "2154 2022-11-17 00:01:38+00:00   \n",
       "2400 2022-11-17 00:01:44+00:00   \n",
       "2424 2022-11-17 00:01:44+00:00   \n",
       "2474 2022-11-17 00:01:45+00:00   \n",
       "2617 2022-11-17 00:01:49+00:00   \n",
       "\n",
       "                                                   text lang processed  \n",
       "106   RT @DaveyostsHat: @darreldrowland Gary isnt ou...   en     [OAG]  \n",
       "133   RT @BDTRELILBROTHER: I be so happy Im not in c...   en     [OAG]  \n",
       "157   It doesn't matter what kind of people we want ...   en     [OAG]  \n",
       "586   Companion? Friend lovers, transformations cann...   en     [OAG]  \n",
       "812   why did i forget about andor i might not have ...   en     [OAG]  \n",
       "821   Do you know if pigs have periods?' Are you kid...   en     [OAG]  \n",
       "1337  This really does capture the essence of k-on p...   en     [OAG]  \n",
       "1427  @Victorshi2020 Lmfao what? You sound like a idiot   en     [OAG]  \n",
       "1486  RT @pradeeponelife: Also few of the posts are ...   en     [OAG]  \n",
       "1703  RT @TeoHanss: @ercep10 @sportbible Shut up htt...   en     [OAG]  \n",
       "1767                 @ewarren Imbecile, you are. Fraud.   en     [OAG]  \n",
       "1813  RT @iluminatibot: What sort of fucking moron t...   en     [OAG]  \n",
       "1879      the fact that she's not is a homophobic crime   en     [OAG]  \n",
       "1921           @robotpinemarten Theres no shame in that   en     [OAG]  \n",
       "2154  I don't know who the person is who left this c...   en     [OAG]  \n",
       "2400  @CourtneeHendrix Im not pounding booty hole so...   en     [OAG]  \n",
       "2424  @disclosetv The democrats hate real Americans ...   en     [OAG]  \n",
       "2474  RT @catturd2: America last. These neocons are ...   en     [OAG]  \n",
       "2617  Some people like the way it feels \\nSome peopl...   en     [OAG]  "
      ]
     },
     "metadata": {},
     "output_type": "display_data"
    }
   ],
   "source": [
    "display (agg_lan)\n",
    "\n",
    "# 945 get 20 \n",
    "# 1921 looks like not an aggressive language \n",
    "# 821 is "
   ]
  },
  {
   "cell_type": "code",
   "execution_count": null,
   "id": "be0282ca",
   "metadata": {},
   "outputs": [],
   "source": []
  },
  {
   "cell_type": "code",
   "execution_count": null,
   "id": "2e317f48",
   "metadata": {},
   "outputs": [],
   "source": []
  },
  {
   "cell_type": "code",
   "execution_count": null,
   "id": "21272c09",
   "metadata": {},
   "outputs": [],
   "source": []
  },
  {
   "cell_type": "code",
   "execution_count": null,
   "id": "ae43025f",
   "metadata": {},
   "outputs": [],
   "source": []
  }
 ],
 "metadata": {
  "kernelspec": {
   "display_name": "Python 3 (ipykernel)",
   "language": "python",
   "name": "python3"
  },
  "language_info": {
   "codemirror_mode": {
    "name": "ipython",
    "version": 3
   },
   "file_extension": ".py",
   "mimetype": "text/x-python",
   "name": "python",
   "nbconvert_exporter": "python",
   "pygments_lexer": "ipython3",
   "version": "3.11.5"
  }
 },
 "nbformat": 4,
 "nbformat_minor": 5
}
